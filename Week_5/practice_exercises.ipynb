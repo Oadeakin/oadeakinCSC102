{
 "cells": [
  {
   "cell_type": "code",
   "execution_count": 1,
   "id": "be727226",
   "metadata": {},
   "outputs": [
    {
     "name": "stdout",
     "output_type": "stream",
     "text": [
      "50.24\n"
     ]
    }
   ],
   "source": [
    "def calculate_area(radius):\n",
    "    pi = 3.14\n",
    "    area = pi * (radius)**2\n",
    "    return area\n",
    "\n",
    "radius = float(input(\"Enter the length of the radius in meters: \"))\n",
    "print(calculate_area(radius))"
   ]
  },
  {
   "cell_type": "code",
   "execution_count": 5,
   "id": "0b2ef166",
   "metadata": {},
   "outputs": [
    {
     "name": "stdout",
     "output_type": "stream",
     "text": [
      "FALSE\n"
     ]
    }
   ],
   "source": [
    "def is_palindrome():\n",
    "    if word == word[::-1]:\n",
    "        print(\"TRUE\")\n",
    "    else:\n",
    "        print(\"FALSE\")\n",
    "\n",
    "word = str(input(\"Enter your word: \"))\n",
    "is_palindrome()"
   ]
  },
  {
   "cell_type": "code",
   "execution_count": 31,
   "id": "71fb51d6",
   "metadata": {},
   "outputs": [
    {
     "name": "stdout",
     "output_type": "stream",
     "text": [
      "[1, 2]\n"
     ]
    }
   ],
   "source": [
    "def find_factors(num):\n",
    "    factors = []\n",
    "    for i in range(1, num+1):\n",
    "        if num % i == 0:\n",
    "            factors.append(i)\n",
    "    return factors\n",
    "    \n",
    "\n",
    "print(find_factors(2)) "
   ]
  },
  {
   "cell_type": "code",
   "execution_count": 33,
   "id": "b6c21094",
   "metadata": {},
   "outputs": [
    {
     "name": "stdout",
     "output_type": "stream",
     "text": [
      "[50, 20, 30, 40, 10]\n"
     ]
    }
   ],
   "source": [
    "def swap_first_last(lst):\n",
    "    if len(lst) >= 2:\n",
    "        lst[0], lst[-1] = lst[-1], lst[0]\n",
    "\n",
    "my_list = [10, 20, 30, 40, 50]\n",
    "swap_first_last(my_list)\n",
    "print(my_list)"
   ]
  },
  {
   "cell_type": "code",
   "execution_count": 41,
   "id": "716c3945",
   "metadata": {},
   "outputs": [
    {
     "name": "stdout",
     "output_type": "stream",
     "text": [
      "Hello Feranmi\n"
     ]
    }
   ],
   "source": [
    "def greet(name, greeting=\"Hello\"):\n",
    "    return f\"{greeting} {name}\"\n",
    "\n",
    "print(greet(\"Feranmi\"))"
   ]
  }
 ],
 "metadata": {
  "kernelspec": {
   "display_name": "Python 3",
   "language": "python",
   "name": "python3"
  },
  "language_info": {
   "codemirror_mode": {
    "name": "ipython",
    "version": 3
   },
   "file_extension": ".py",
   "mimetype": "text/x-python",
   "name": "python",
   "nbconvert_exporter": "python",
   "pygments_lexer": "ipython3",
   "version": "3.11.9"
  }
 },
 "nbformat": 4,
 "nbformat_minor": 5
}
