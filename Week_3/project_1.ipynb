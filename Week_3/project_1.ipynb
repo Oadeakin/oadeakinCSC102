{
 "cells": [
  {
   "cell_type": "code",
   "execution_count": null,
   "metadata": {},
   "outputs": [],
   "source": [
    "# Girls\n",
    "girls_name = ['Evelyn', 'Jessica', 'Somto', 'Edith', 'Liza', 'Madonna', 'Waje', 'Tola', 'Aisha', 'Latifa']\n",
    "girls_age = [17, 16, 17, 18, 16, 18, 17, 20, 19 ,17]\n",
    "girls_height = [5.5, 6.0, 5.4, 5.9, 5.6, 5.5, 6.1, 6.0, 5.7, 5.5]\n",
    "girls_score = [80, 85, 70, 60, 76, 66, 87, 95, 50, 49]\n",
    "\n",
    "# Boys\n",
    "boys_name = ['Chinedu', 'Liam', 'Wale', 'Gbenga', 'Abiola', 'Kola', 'Kunle', 'George', 'Thomas', 'Wesley']\n",
    "boys_age = [19, 16, 18, 17, 20, 19, 16, 18, 17, 19]\n",
    "boys_height = [5.7, 5.9, 5.8, 6.1, 5.9, 5.5, 6.1, 5.4, 5.8, 5.7]\n",
    "boys_score = [74,87,75,68,66,78,87,54,80,60]\n",
    "\n",
    "# Creating Table Format\n",
    "data = [\n",
    "    [girls_name[i], girls_age[i], girls_height[i], girls_score[i]] for i in range(len(girls_name))\n",
    "] + [\n",
    "    [boys_name[i], boys_age[i], boys_height[i], boys_score[i]] for i in range(len(boys_name))\n",
    "]\n",
    "\n",
    "# Print Table Header\n",
    "print(\"{:<10} {:<5} {:<6} {:<6}\".format(\"Name\", \"Age\", \"Height\", \"Score\"))\n",
    "print(\"-\" * 30)\n",
    "\n",
    "# Print Table Rows\n",
    "for row in data:\n",
    "    print(\"{:<10} {:<5} {:<6} {:<6}\".format(row[0], row[1], row[2], row[3]))\n"
   ]
  },
  {
   "cell_type": "code",
   "execution_count": 23,
   "metadata": {},
   "outputs": [
    {
     "name": "stdout",
     "output_type": "stream",
     "text": [
      "Full-Stack Developer for Izifin Technology\n",
      "Name: ubfias \n",
      "Age: 60 years \n",
      "Years of Experience: 55 years\n",
      "Annual Tax Revenue (ART):  (550, 0.0)\n"
     ]
    }
   ],
   "source": [
    "# Qualifications\n",
    "name_staff = str(input(\"Enter your name: \"))\n",
    "age_staff = int(input(\"Input your age: \"))\n",
    "years_experience = int(input(\"Enter your years of experience: \"))\n",
    "\n",
    "# Conditions\n",
    "if years_experience > 25 & age_staff >= 55:\n",
    "    art = 5600000\n",
    "elif years_experience > 20 & age_staff >= 45:\n",
    "    art = 4480000\n",
    "elif years_experience > 10 & age_staff >= 35:\n",
    "    art = 1500000\n",
    "elif years_experience <= 10 & age_staff < 35:\n",
    "    art = 550000\n",
    "    \n",
    "print(\"Full-Stack Developer for Izifin Technology\")\n",
    "print(f\"Name: {name_staff} \\nAge: {age_staff} years \\nYears of Experience: {years_experience} years\")\n",
    "print(\"Annual Tax Revenue (ART): \",art)\n",
    "\n"
   ]
  }
 ],
 "metadata": {
  "kernelspec": {
   "display_name": "Python 3",
   "language": "python",
   "name": "python3"
  },
  "language_info": {
   "codemirror_mode": {
    "name": "ipython",
    "version": 3
   },
   "file_extension": ".py",
   "mimetype": "text/x-python",
   "name": "python",
   "nbconvert_exporter": "python",
   "pygments_lexer": "ipython3",
   "version": "3.11.9"
  }
 },
 "nbformat": 4,
 "nbformat_minor": 2
}
