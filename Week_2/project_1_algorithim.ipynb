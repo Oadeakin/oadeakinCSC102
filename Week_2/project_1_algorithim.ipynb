{
 "cells": [
  {
   "cell_type": "code",
   "execution_count": 7,
   "metadata": {},
   "outputs": [
    {
     "name": "stdout",
     "output_type": "stream",
     "text": [
      "Person1: David\n",
      "Age1: 23\n",
      "\n",
      "Person2: Stephen\n",
      "Age2: 19\n",
      "\n",
      "New Data\n",
      "Name: David Age: 19\n",
      "Name: Stephen Age: 23\n",
      "None\n"
     ]
    }
   ],
   "source": [
    "def swap(person_1, person_2, age_1, age_2):\n",
    "    print(f\"Name: {person_1} Age: {age_1}\")\n",
    "    print(f\"Name: {person_2} Age: {age_2}\")\n",
    "\n",
    "name_1 = str(input(\"Enter your name: \"))\n",
    "birth_1 = int(input(f\"Enter your age {name_1}: \"))\n",
    "\n",
    "name_2 = str(input(\"Enter your name: \"))\n",
    "birth_2 = int(input(f\"Enter your age {name_2}: \"))\n",
    "\n",
    "print(f\"Person1: {name_1}\")\n",
    "print(f\"Age1: {birth_1}\")\n",
    "print(f\"\\nPerson2: {name_2}\")\n",
    "print(f\"Age2: {birth_2}\")\n",
    "\n",
    "new_age = birth_1\n",
    "birth_1 = birth_2\n",
    "birth_2 = new_age\n",
    "\n",
    "print(\"\\nNew Data\")\n",
    "print(swap(name_1, name_2, birth_1, birth_2))"
   ]
  }
 ],
 "metadata": {
  "kernelspec": {
   "display_name": "Python 3",
   "language": "python",
   "name": "python3"
  },
  "language_info": {
   "codemirror_mode": {
    "name": "ipython",
    "version": 3
   },
   "file_extension": ".py",
   "mimetype": "text/x-python",
   "name": "python",
   "nbconvert_exporter": "python",
   "pygments_lexer": "ipython3",
   "version": "3.13.2"
  }
 },
 "nbformat": 4,
 "nbformat_minor": 2
}
